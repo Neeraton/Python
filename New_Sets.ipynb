{
  "nbformat": 4,
  "nbformat_minor": 0,
  "metadata": {
    "colab": {
      "provenance": [],
      "authorship_tag": "ABX9TyP7O8lwGRVoCZXKRje/+qpK"
    },
    "kernelspec": {
      "name": "python3",
      "display_name": "Python 3"
    },
    "language_info": {
      "name": "python"
    }
  },
  "cells": [
    {
      "cell_type": "code",
      "execution_count": 2,
      "metadata": {
        "colab": {
          "base_uri": "https://localhost:8080/"
        },
        "id": "iuWl7cXtUPta",
        "outputId": "15f9e2b6-a4aa-4d11-effd-f9b866b5ede0"
      },
      "outputs": [
        {
          "output_type": "stream",
          "name": "stdout",
          "text": [
            "{1, 2, 3, 4, 5, 6, 7, 8, 'neeraj'}\n",
            "{4, 5}\n",
            "{1, 2, 3, 4, 5, 6, 7, 8, 'neeraj'}\n",
            "{4, 5}\n",
            "{1, 2, 3}\n",
            "{1, 2, 3}\n",
            "{8, 'neeraj', 6, 7}\n",
            "{8, 'neeraj', 6, 7}\n",
            "{1, 2, 3, 6, 7, 8, 'neeraj'}\n",
            "{1, 2, 3, 6, 7, 8, 'neeraj'}\n"
          ]
        }
      ],
      "source": [
        "A={1,2,3,4,5}\n",
        "B={4,5,6,7,8,\"neeraj\"} #set\n",
        "print(A | B)\n",
        "print(A & B)\n",
        "print(A.union(B))\n",
        "print(A.intersection(B))\n",
        "print(A-B)\n",
        "print(A.difference(B))\n",
        "print(B-A)\n",
        "print(B.difference(A))\n",
        "print(A^B)\n",
        "print(A.symmetric_difference(B))"
      ]
    }
  ]
}