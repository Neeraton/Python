{
  "nbformat": 4,
  "nbformat_minor": 0,
  "metadata": {
    "colab": {
      "provenance": [],
      "include_colab_link": true
    },
    "kernelspec": {
      "name": "python3",
      "display_name": "Python 3"
    },
    "language_info": {
      "name": "python"
    }
  },
  "cells": [
    {
      "cell_type": "markdown",
      "metadata": {
        "id": "view-in-github",
        "colab_type": "text"
      },
      "source": [
        "<a href=\"https://colab.research.google.com/github/Neeraton/Python/blob/main/PALINDROME_2.ipynb\" target=\"_parent\"><img src=\"https://colab.research.google.com/assets/colab-badge.svg\" alt=\"Open In Colab\"/></a>"
      ]
    },
    {
      "cell_type": "code",
      "execution_count": null,
      "metadata": {
        "colab": {
          "base_uri": "https://localhost:8080/"
        },
        "id": "JnnG335t-ao8",
        "outputId": "d23da176-711b-4422-8e69-ac6389ca2784"
      },
      "outputs": [
        {
          "output_type": "stream",
          "name": "stdout",
          "text": [
            "Enter the string: MALAYALAM\n",
            "The given string is palindrome \n"
          ]
        }
      ],
      "source": [
        "str1 = input(\"Enter the string: \")\n",
        "rev_str1 = reversed(str1)\n",
        "if list(str1) == list(rev_str1):\n",
        "       print(\"The given string is palindrome \")\n",
        "else:\n",
        "       print(\"The given string is not palindrome.\")\n"
      ]
    }
  ]
}