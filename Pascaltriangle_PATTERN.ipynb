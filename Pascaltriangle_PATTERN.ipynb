{
  "nbformat": 4,
  "nbformat_minor": 0,
  "metadata": {
    "colab": {
      "provenance": [],
      "include_colab_link": true
    },
    "kernelspec": {
      "name": "python3",
      "display_name": "Python 3"
    },
    "language_info": {
      "name": "python"
    }
  },
  "cells": [
    {
      "cell_type": "markdown",
      "metadata": {
        "id": "view-in-github",
        "colab_type": "text"
      },
      "source": [
        "<a href=\"https://colab.research.google.com/github/Neeraton/Python/blob/main/Pascaltriangle_PATTERN.ipynb\" target=\"_parent\"><img src=\"https://colab.research.google.com/assets/colab-badge.svg\" alt=\"Open In Colab\"/></a>"
      ]
    },
    {
      "cell_type": "code",
      "execution_count": null,
      "metadata": {
        "colab": {
          "base_uri": "https://localhost:8080/"
        },
        "id": "IFeIPwgorbPR",
        "outputId": "dd375092-8870-433e-e5a5-e976c02eba68"
      },
      "outputs": [
        {
          "output_type": "stream",
          "name": "stdout",
          "text": [
            "Enter Right Pascals Star Triangle Pattern Rows = 5\n",
            "====Right Pascals Star Triangle Pattern====\n",
            "* \n",
            "* * \n",
            "* * * \n",
            "* * * * \n",
            "* * * * * \n",
            "* * * * \n",
            "* * * \n",
            "* * \n",
            "* \n",
            "\n"
          ]
        }
      ],
      "source": [
        "rows = int(input(\"Enter Right Pascals Star Triangle Pattern Rows = \"))\n",
        "\n",
        "print(\"====Right Pascals Star Triangle Pattern====\")\n",
        "\n",
        "for i in range(0, rows):\n",
        "    for j in range(0, i + 1):\n",
        "        print('*', end = ' ')\n",
        "    print()\n",
        "\n",
        "for i in range(rows - 1, -1, -1):\n",
        "    for j in range(0, i):\n",
        "        print('*', end = ' ')\n",
        "    print()"
      ]
    }
  ]
}