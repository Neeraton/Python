{
  "nbformat": 4,
  "nbformat_minor": 0,
  "metadata": {
    "colab": {
      "provenance": [],
      "authorship_tag": "ABX9TyNPrIdzcH0k1Log04y7Ehbc"
    },
    "kernelspec": {
      "name": "python3",
      "display_name": "Python 3"
    },
    "language_info": {
      "name": "python"
    }
  },
  "cells": [
    {
      "cell_type": "code",
      "execution_count": 17,
      "metadata": {
        "colab": {
          "base_uri": "https://localhost:8080/"
        },
        "id": "ocIJJIZ5TV7Z",
        "outputId": "2bd642fc-c8ab-4eaa-f418-5b47223d4888"
      },
      "outputs": [
        {
          "output_type": "stream",
          "name": "stdout",
          "text": [
            "{'Author': 'Chetan Bhagat', 'Book name': 'Room 302', 'Published': 2002, 'Prices': ['1000', '1200', '5000']} \n",
            "\n",
            "Chetan Bhagat\n",
            "Room 302\n",
            "2002\n",
            "['1000', '1200', '5000']\n",
            "\n",
            "Length of Dictionary: 4\n",
            "\n",
            " {'Author': 'Chetan Bhagat', 'Book name': 'Two States', 'Published': 2002, 'Prices': ['1000', '1200', '5000']}\n",
            "\n",
            " {'Author': 'Chetan Bhagat', 'Book name': 'Two States', 'Published': 2002}\n",
            "\n",
            " {}\n"
          ]
        }
      ],
      "source": [
        "d = {\n",
        "  \"Author\": \"Chetan Bhagat\",\n",
        "  \"Book name\": \"Room 302\",\n",
        "  \"Published\": 2002,\n",
        "  \"Prices\" : ['1000','1200','5000']\n",
        "\n",
        "}\n",
        "print(d,\"\\n\")\n",
        "print(d[\"Author\"])\n",
        "print(d[\"Book name\"])\n",
        "print(d[\"Published\"])\n",
        "print(d[\"Prices\"])\n",
        "print(\"\\nLength of Dictionary:\",len(d))\n",
        "\n",
        "d.update({\"Book name\" : \"Two States\"})\n",
        "print(\"\\n\",d)\n",
        "\n",
        "del d['Prices']\n",
        "print(\"\\n\",d)\n",
        "d.clear()\n",
        "print(\"\\n\",d)"
      ]
    }
  ]
}