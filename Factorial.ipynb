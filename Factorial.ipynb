{
  "nbformat": 4,
  "nbformat_minor": 0,
  "metadata": {
    "colab": {
      "provenance": [],
      "include_colab_link": true
    },
    "kernelspec": {
      "name": "python3",
      "display_name": "Python 3"
    },
    "language_info": {
      "name": "python"
    }
  },
  "cells": [
    {
      "cell_type": "markdown",
      "metadata": {
        "id": "view-in-github",
        "colab_type": "text"
      },
      "source": [
        "<a href=\"https://colab.research.google.com/github/Neeraton/Python/blob/main/Factorial.ipynb\" target=\"_parent\"><img src=\"https://colab.research.google.com/assets/colab-badge.svg\" alt=\"Open In Colab\"/></a>"
      ]
    },
    {
      "cell_type": "code",
      "execution_count": 5,
      "metadata": {
        "id": "rjjDPmM0RTxe",
        "colab": {
          "base_uri": "https://localhost:8080/"
        },
        "outputId": "3058e838-0543-4a18-ca33-006a00fe26a1"
      },
      "outputs": [
        {
          "output_type": "stream",
          "name": "stdout",
          "text": [
            "Enter the number :3\n",
            "The Factorial of the number is =  6\n"
          ]
        }
      ],
      "source": [
        "def factorial(n):\n",
        "  if n==0 :\n",
        "    return 1\n",
        "  else :\n",
        "      return n*factorial(n-1)\n",
        "\n",
        "n1=int(input(\"Enter the number :\"))\n",
        "print(\"The Factorial of the number is = \",factorial(n1))\n"
      ]
    }
  ]
}