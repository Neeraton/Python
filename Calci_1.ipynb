{
  "nbformat": 4,
  "nbformat_minor": 0,
  "metadata": {
    "colab": {
      "provenance": [],
      "authorship_tag": "ABX9TyM8GtTuaWPozJyn8pLGjKuK",
      "include_colab_link": true
    },
    "kernelspec": {
      "name": "python3",
      "display_name": "Python 3"
    },
    "language_info": {
      "name": "python"
    }
  },
  "cells": [
    {
      "cell_type": "markdown",
      "metadata": {
        "id": "view-in-github",
        "colab_type": "text"
      },
      "source": [
        "<a href=\"https://colab.research.google.com/github/Neeraton/Python/blob/main/Calci_1.ipynb\" target=\"_parent\"><img src=\"https://colab.research.google.com/assets/colab-badge.svg\" alt=\"Open In Colab\"/></a>"
      ]
    },
    {
      "cell_type": "code",
      "execution_count": null,
      "metadata": {
        "colab": {
          "base_uri": "https://localhost:8080/"
        },
        "id": "GfATcAgjtTUC",
        "outputId": "9d6fb76b-7609-411d-f6f1-3e584a4422f7"
      },
      "outputs": [
        {
          "output_type": "stream",
          "name": "stdout",
          "text": [
            "Enter the first number :5\n",
            "Enter the second number :9\n",
            "\n",
            "Addition of the numbers is : 14\n",
            "\n",
            "Subtraction of the numbers is : -4\n",
            "\n",
            "Multiplication of the numbers is : 45\n",
            "\n",
            "Division of the numbers is : 0.5555555555555556\n",
            "\n",
            "Modulus of the numbers is : 5\n"
          ]
        }
      ],
      "source": [
        "a=int(input(\"Enter the first number :\"))\n",
        "b=int(input(\"Enter the second number :\"))\n",
        "c=a+b\n",
        "print(\"\\nAddition of the numbers is :\",c)\n",
        "c=a-b\n",
        "print(\"\\nSubtraction of the numbers is :\",c)\n",
        "c=a*b\n",
        "print(\"\\nMultiplication of the numbers is :\",c)\n",
        "c=a/b\n",
        "print(\"\\nDivision of the numbers is :\",c)\n",
        "c=a%b\n",
        "print(\"\\nModulus of the numbers is :\",c)\n",
        "\n",
        "\n",
        "\n"
      ]
    }
  ]
}